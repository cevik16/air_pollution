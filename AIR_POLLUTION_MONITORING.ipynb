{
 "cells": [
  {
   "cell_type": "markdown",
   "metadata": {},
   "source": [
    "<div align=\"center\"> <h1> POLLUTION MONITORING WITH SENTINEL-5P </h1> </div>\n",
    "\n",
    "<div align=\"center\"> <h2> Case Study: Paris 2019 vs. 2020 </h2> </div>"
   ]
  },
  {
   "cell_type": "markdown",
   "metadata": {},
   "source": [
    "<div style=\"text-align: justify;\"> &ensp;&ensp; Air pollution is a major environmental health problem that affects people in developed and developing countries alike. With millions of people dying prematurely every years as a direct result of poor air quality. It has never been more important to minotor the air we breathe.Pollutants enter the air from a range of sources, although they are mainly a result of motor vehicle and industrial combustion processes. Governments and decisin-makers rely heavily on satellite data and computer models to show how pollution accumulates and how it is carried in the air so that they can develop appropriate mitigation strategies.One of the missions, known as a Sentinel-5p, provides timely data on a multitude of trace gases(CO, NO2, SO2, O3, aerosols, etc.)</div>"
   ]
  },
  {
   "cell_type": "markdown",
   "metadata": {},
   "source": [
    "<div style=\"text-align: justify;\"> &ensp;&ensp; In this study, we will analyze Sentinel-5 products, delivered to users as a netCDF files, to map NO2 concentration over our study area in France. The analysis will be implemented using Python code that can be found in this Jupyter Notebook. Although it is recommended to have at least some basic knowledge, the exercise <b>DOES NOT</b> any Python programming skills and can be followed by any participant.</div>"
   ]
  },
  {
   "cell_type": "markdown",
   "metadata": {},
   "source": [
    "The exercise is divided in the following sections:\n",
    "<br>&ensp;1.&ensp;Python Modules\n",
    "<br>&ensp;2.&ensp;Explore Sentinel-5p Data\n",
    "<br>&ensp;&ensp;&ensp;&ensp;2.1 Access Groups\n",
    "<br>&ensp;&ensp;&ensp;&ensp;2.2 Access Variable\n",
    "<br>&ensp;&ensp;&ensp;&ensp;2.3 Plot variable\n",
    "<br>&ensp;&ensp;&ensp;&ensp;2.4 Filter variable"
   ]
  },
  {
   "cell_type": "markdown",
   "metadata": {},
   "source": [
    " <b><font face=\"Arial\" size=\"6\" color=\"blue\"> 1- PYTHON MODULES </font><br /></b>"
   ]
  },
  {
   "cell_type": "markdown",
   "metadata": {},
   "source": [
    "<b><font face=\"Arial\" size=\"5\" color=\"blue\"> 1.1- Download Modules </font><br /></b>"
   ]
  },
  {
   "cell_type": "code",
   "execution_count": null,
   "metadata": {},
   "outputs": [],
   "source": [
    "%pip install matplotlib\n",
    "%pip install termcolor\n",
    "%pip install xarray\n",
    "%pip install numpy\n",
    "%pip install glob2"
   ]
  },
  {
   "cell_type": "markdown",
   "metadata": {},
   "source": [
    "<b><font face=\"Arial\" size=\"5\" color=\"blue\"> 1.2- Import Modules </font><br /></b>"
   ]
  },
  {
   "cell_type": "code",
   "execution_count": null,
   "metadata": {
    "scrolled": true
   },
   "outputs": [],
   "source": [
    "try:\n",
    "    from matplotlib import pyplot as plt # Visualization\n",
    "    from termcolor import colored\n",
    "    import matplotlib.colors as colors # colors for visualization\n",
    "    import xarray as xr # Process netCDF S-5p data\n",
    "    import numpy as np # Data manipulation\n",
    "    import cartopy # visualization\n",
    "    import cartopy.crs as ccrs\n",
    "    import matplotlib.gridspec as gridspec # create subplot\n",
    "    from glob import iglob # data access in file manager\n",
    "    from os.path import join\n",
    "    from functools import reduce # strinf manipulation\n",
    "    import cartopy.feature as cf\n",
    "\n",
    "except ModuleNotFoundError:\n",
    "    print(\"Module Import Error\")\n",
    "else:\n",
    "    print(colored('\\nAll libraries properly loaded. Ready to start!!!','green'),'\\n')"
   ]
  },
  {
   "cell_type": "markdown",
   "metadata": {},
   "source": [
    "<b><font face=\"Arial\" size=\"6\" color=\"blue\"> 2- EXPLORE SENTINEL-5P DATA </font><br /></b>"
   ]
  },
  {
   "cell_type": "markdown",
   "metadata": {},
   "source": [
    "<b><font face=\"Arial\" size=\"5\" color=\"blue\"> 2.1- Access Groups </font><br /></b>"
   ]
  },
  {
   "cell_type": "markdown",
   "metadata": {},
   "source": [
    "<div style=\"text-align: justify;\"> &ensp;&ensp; With all the modules properly loaded, we can start. Before starting, it is important to understand how the Sentinel-5p Level 2 netCDF files ares structured. With in netCDF files, different groups are used to organise the data and make it easier to find what you are looking for. Two groups: <b>PRODUCT</b> and <b>METADATA</b>, both of them contain sub-groups.</div>"
   ]
  },
  {
   "cell_type": "markdown",
   "metadata": {},
   "source": [
    "<div style=\"text-align: justify;\"><b>1-PRODUCT</b>: The variables in this group will answer the questions what, when, where and how well. This group stores the main data fields of the product, including the precision of the main parameters, latitude, longitude and variable to determine the observation time and the dimensions needed for the data\n",
    "<i>( a time reference dimension(time), the number of measurements in the granule(scanline), the number of spectra in measurement(ground_pixel) and depending on the product also a pressure-level dimension, or state-vector dimensions).</i></div>\n",
    "<br><div style=\"text-align: justify;\">The <b><i>qa_value</i></b> parameter summarizes the processing quality and gives a quality a quality percentage: %100 is the most optimal value, %0 is processing failure, in between lies a continuum of values</div>"
   ]
  },
  {
   "cell_type": "markdown",
   "metadata": {},
   "source": [
    "<div style=\"text-align: justify;\"><b>2-METADATA:</b> This is a group to collect metadata items, such as the items that appear in the header file and items. The metadata is stored as attributes, while grouping attributes that belong to a specific standart will be done by using sub-groups.</div>"
   ]
  },
  {
   "cell_type": "markdown",
   "metadata": {},
   "source": [
    "In this study, xarray library was used to perform basic and advanced analysis. Xarray introduces labels in the form of dimensions, coordinates and attributes on top of raw NumPy-like array, which allows for a more intuitive, more concise, and less error-prone developer experience. The package includes a large and growing library of a lot of functions for advanced analytics and visualization with these data structures. Xarray is inspired by and borrows heavily from pandas, the popular data analysis package focused on labelled tabular data. It is particulary tailored to working with netCDF files."
   ]
  },
  {
   "cell_type": "markdown",
   "metadata": {},
   "source": [
    "<b>In the code below is carried out:</b>\n",
    "<li> Access the Global Attributes\n",
    "<li> Access the METADATA group\n",
    "<li> Access the PRODUCT group"
   ]
  },
  {
   "cell_type": "markdown",
   "metadata": {},
   "source": [
    "<b><font face=\"Arial\" size=\"4\" color=\"blue\"> 2.1.1- Image Data (2019) </font><br /></b>"
   ]
  },
  {
   "cell_type": "code",
   "execution_count": null,
   "metadata": {},
   "outputs": [],
   "source": [
    "# Look for NO2 products in 2019 Image\n",
    "product_path_2019 = \"Data/2019/\"\n",
    "input_files_OFFL_2019= sorted(list(iglob(join(product_path_2019, '**', '*OFFL*NO2*.nc'), recursive=True)))\n",
    "print(colored('NO2 OFFL products detected:','blue'), len(input_files_OFFL_2019))\n",
    "\n",
    "# Select Level2 NO2 product to be explored in 2019 Image\n",
    "s5p_file_2019 = input_files_OFFL_2019[0]\n",
    "print(colored('Product selected for analysis:','blue'), s5p_file_2019)"
   ]
  },
  {
   "cell_type": "code",
   "execution_count": null,
   "metadata": {},
   "outputs": [],
   "source": [
    "# Open product - GLOBAL ATTRIBUTES (2019 Image)\n",
    "with xr.open_dataset(s5p_file_2019) as s5p_img_GA_2019:\n",
    "    print(colored(\"Global attributes of product:\\n\" , \"blue\"), s5p_img_GA_2019)\n",
    "\n",
    "# Open product - GROUP METADATA/GRANULE_DESCRIPTION (2019 Image)\n",
    "with xr.open_dataset(s5p_file_2019, group='METADATA/GRANULE_DESCRIPTION') as s5p_img_MT_2019:\n",
    "    print(colored(\"\\nMETADATA/GRANULE_DESCRIPTION Group:\\n\" , \"blue\"), s5p_img_GA_2019)\n",
    "\n",
    "# Open product - GROUP PRODUCT (2019 Image)\n",
    "with xr.open_dataset(s5p_file_2019, group='PRODUCT') as s5p_img_PRD_2019:\n",
    "    print(colored(\"\\nPRODUCT Group:\\n\" , \"blue\"), s5p_img_GA_2019)"
   ]
  },
  {
   "cell_type": "markdown",
   "metadata": {},
   "source": [
    "<b><font face=\"Arial\" size=\"4\" color=\"blue\"> 2.1.2- Image Data (2020) </font><br /></b>"
   ]
  },
  {
   "cell_type": "code",
   "execution_count": null,
   "metadata": {},
   "outputs": [],
   "source": [
    "# Look for NO2 products in 2020 Image\n",
    "product_path_2020 = \"Data/2020/\"\n",
    "input_files_OFFL_2020= sorted(list(iglob(join(product_path_2020, '**', '*OFFL*NO2*.nc'), recursive=True)))\n",
    "print(colored('NO2 OFFL products detected:','blue'), len(input_files_OFFL_2020))\n",
    "\n",
    "# Select Level2 NO2 product to be explored in 2020 Image\n",
    "s5p_file_2020 = input_files_OFFL_2020[0]\n",
    "print(colored('Product selected for analysis:','blue'), s5p_file_2020)"
   ]
  },
  {
   "cell_type": "code",
   "execution_count": null,
   "metadata": {},
   "outputs": [],
   "source": [
    "# Open product - GLOBAL ATTRIBUTES (2020 Image)\n",
    "with xr.open_dataset(s5p_file_2020) as s5p_img_GA_2020:\n",
    "    print(colored(\"Global attributes of product:\\n\" , \"blue\"), s5p_img_GA_2020)\n",
    "\n",
    "# Open product - GROUP METADATA/GRANULE_DESCRIPTION (2020 Image)\n",
    "with xr.open_dataset(s5p_file_2020, group='METADATA/GRANULE_DESCRIPTION') as s5p_img_MT_2020:\n",
    "    print(colored(\"\\nMETADATA/GRANULE_DESCRIPTION Group:\\n\" , \"blue\"), s5p_img_GA_2020)\n",
    "\n",
    "# Open product - GROUP PRODUCT (2020 Image)\n",
    "with xr.open_dataset(s5p_file_2020, group='PRODUCT') as s5p_img_PRD_2020:\n",
    "    print(colored(\"\\nPRODUCT Group:\\n\" , \"blue\"), s5p_img_GA_2020)"
   ]
  },
  {
   "cell_type": "markdown",
   "metadata": {},
   "source": [
    "<b><font face=\"Arial\" size=\"5\" color=\"blue\"> 2.2- Access Variable </font><br /></b>"
   ]
  },
  {
   "cell_type": "markdown",
   "metadata": {},
   "source": [
    "<div style=\"text-align: justify;\"> &ensp;&ensp; The most important question is where can we find the actual NO$_2$ measurement? When check the Sentinel-5p Level 2 NO$_2$ product User Manuel, you will learn that it can be found in the <i>'nitrogendioxied_tropospheric_column'</i> variable inside the PRODUCT group. The data will be open as a xarray.DataArray object, so we can make use of the key properties available.</div>"
   ]
  },
  {
   "cell_type": "markdown",
   "metadata": {},
   "source": [
    "<b><font face=\"Arial\" size=\"4\" color=\"blue\"> 2.2.1- Image Data (2019) </font><br /></b>"
   ]
  },
  {
   "cell_type": "code",
   "execution_count": null,
   "metadata": {},
   "outputs": [],
   "source": [
    "# Open Product - GROUP PRODUCT (2019 Image)\n",
    "no2_2019 = s5p_img_PRD_2019['nitrogendioxide_tropospheric_column']\n",
    "print(colored('Dimension: names for each axis (e.g., (\"x\", \"y\", \"z\"):','blue'), no2_2019.dims)\n",
    "print(colored('\\nCoordinates: dict-like container of arrays that label each point: ', 'blue'), no2_2019.coords)\n",
    "print(colored('\\nAttributes: dict to hold arbitrary metadat (attributes):\\n', 'blue'), no2_2019.attrs)\n",
    "print(colored('\\Values: a numpy.ndarray holding the array values:\\n','blue'), no2_2019.values)"
   ]
  },
  {
   "cell_type": "markdown",
   "metadata": {},
   "source": [
    "<b><font face=\"Arial\" size=\"4\" color=\"blue\"> 2.2.2- Image Data (2020) </font><br /></b>"
   ]
  },
  {
   "cell_type": "code",
   "execution_count": null,
   "metadata": {},
   "outputs": [],
   "source": [
    "# Open Product - GROUP PRODUCT (2019 Image)\n",
    "no2_2020 = s5p_img_PRD_2020['nitrogendioxide_tropospheric_column']\n",
    "print(colored('Dimension: names for each axis (e.g., (\"x\", \"y\", \"z\"):','blue'), no2_2020.dims)\n",
    "print(colored('\\nCoordinates: dict-like container of arrays that label each point: ', 'blue'), no2_2020.coords)\n",
    "print(colored('\\nAttributes: dict to hold arbitrary metadat (attributes):\\n', 'blue'), no2_2020.attrs)\n",
    "print(colored('\\Values: a numpy.ndarray holding the array values:\\n','blue'), no2_2020.values)"
   ]
  },
  {
   "cell_type": "markdown",
   "metadata": {},
   "source": [
    "<b><font face=\"Arial\" size=\"5\" color=\"blue\"> 2.3- Plot Variable </font><br /></b>"
   ]
  },
  {
   "cell_type": "markdown",
   "metadata": {},
   "source": [
    "<div style=\"text-align: justify;\"> &ensp;&ensp; In the next step, the unit used to represent the measure was converted from <b><i>\"mol/m2\"</i></b> to <b><i>\"molecules/cm2\"</i></b> using the <b><i>\"multiplication_factor_to_convert_to_molecules_percm2\"</i></b> attribute in the PRODUCT group. </div>"
   ]
  },
  {
   "cell_type": "markdown",
   "metadata": {},
   "source": [
    "<i><b>Tip:</b> The quantities in Sentinel 5 precursor files are given in SI units. For an integrated column value this means that the unit is mol/m2. Traditionally, the unit for an integrated column is molecules/cm2.</i>"
   ]
  },
  {
   "cell_type": "code",
   "execution_count": null,
   "metadata": {},
   "outputs": [],
   "source": [
    "# Convert values to molecules/cm2 (2019 Image)\n",
    "no2_2019 = no2_2019 * no2_2019.multiplication_factor_to_convert_to_molecules_percm2\n",
    "\n",
    "# Convert values to molecules/cm2 (2020 Image)\n",
    "no2_2020 = no2_2020 * no2_2020.multiplication_factor_to_convert_to_molecules_percm2\n"
   ]
  },
  {
   "cell_type": "markdown",
   "metadata": {},
   "source": [
    "<div style=\"text-align: justify;\"> &ensp;&ensp; After, visualization was done using the <i>cartopy</i> which a python package designed for geospatial data processing in order to produce maps and other geospatial data analyses.</div>"
   ]
  },
  {
   "cell_type": "markdown",
   "metadata": {},
   "source": [
    "<b><font face=\"Arial\" size=\"4\" color=\"blue\"> 2.3.1- Visualization Image (2019) </font><br /></b>"
   ]
  },
  {
   "cell_type": "code",
   "execution_count": null,
   "metadata": {},
   "outputs": [],
   "source": [
    "# Visualization using Cartopy and Mercator projection\n",
    "plt.figure(figsize=(20,5.5))\n",
    "ax = plt.axes(projection=ccrs.Mercator())\n",
    "no2_2019[0].plot.pcolormesh(ax=ax, x='longitude', y='latitude', add_colorbar=True, cmap='magma_r', transform=ccrs.PlateCarree(), vmin=0)\n",
    "\n",
    "ax.set_title('S-5P L2 NO$_2$ (2019) | Unfiltered Quality')\n",
    "ax.coastlines('10m')\n",
    "ax.set_global()\n",
    "ax.stock_img()\n",
    "ax.gridlines()\n",
    "ax.set_extent([-3.62, 12.25, 44.00, 51.60])\n",
    "\n",
    "# Add France to Map\n",
    "ax.plot(3.7, 46.8, 'bo', markersize=10, transform=ccrs.PlateCarree())\n",
    "ax.text(3.1, 47, 'FRANCE', transform=ccrs.Geodetic())\n",
    "\n",
    "plt.savefig('Outputs/2019_NO2_unfiltered.png', bbox_inches='tight', dpi=300)"
   ]
  },
  {
   "cell_type": "markdown",
   "metadata": {},
   "source": [
    "<b><font face=\"Arial\" size=\"4\" color=\"blue\"> 2.3.2- Visualization Image (2020) </font><br /></b>"
   ]
  },
  {
   "cell_type": "code",
   "execution_count": null,
   "metadata": {},
   "outputs": [],
   "source": [
    "# Visualization using Cartopy and Mercator projection\n",
    "plt.figure(figsize=(20,5.5))\n",
    "ax = plt.axes(projection=ccrs.Mercator())\n",
    "no2_2020[0].plot.pcolormesh(ax=ax, x='longitude', y='latitude', add_colorbar=True, cmap='magma_r', transform=ccrs.PlateCarree(), vmin=0)\n",
    "\n",
    "ax.set_title('S-5P L2 NO$_2$ (2020) | Unfiltered Quality')\n",
    "ax.coastlines('10m')\n",
    "ax.set_global()\n",
    "ax.stock_img()\n",
    "ax.gridlines()\n",
    "ax.set_extent([-3.62, 12.25, 44.00, 51.60])\n",
    "\n",
    "# Add France to Map\n",
    "ax.plot(3.7, 46.8, 'bo', markersize=10, transform=ccrs.PlateCarree())\n",
    "ax.text(3.1, 47, 'FRANCE', transform=ccrs.Geodetic())\n",
    "\n",
    "plt.savefig('Outputs/2020_NO2_unfiltered.png', bbox_inches='tight', dpi=300)"
   ]
  },
  {
   "cell_type": "markdown",
   "metadata": {},
   "source": [
    "<b><font face=\"Arial\" size=\"5\" color=\"blue\"> 2.4- Filter Variable </font><br /></b>"
   ]
  },
  {
   "cell_type": "markdown",
   "metadata": {},
   "source": [
    "<div style=\"text-align: justify;\"> &ensp;&ensp; With the overview of the data completed, our processing can be started using the quality flag included on the Sentinel-5p Level 2 product. The quality of the individual observations depends on many factors, <u>including cloud cover</u>, <u>surface albedo</u>; <u>presence of snow-ice</u>, <u>saturation</u>, <u>geometry</u> etc. \n",
    "<br>&ensp;&ensp; These aspects are taken into account in the definition of the <i>\"quality assurance value (qa_value)\"</i>, available for each individual observation, which provides the users with an easy filter to remove less accurate observations. The <i>\"qa_value\"</i> is a continuous variable, ranging from 0(error) to 1(well).</div>"
   ]
  },
  {
   "cell_type": "markdown",
   "metadata": {},
   "source": [
    "<li><b> qa_value > 0.75:</b> This is the recommended pixel filter. It removes cloud-covered scenes (cloud radiance fraction> 0.5), partially snow/ice covered scenes, errors, and problematic retrievals.\n",
    "<li><b> qa_value > 0.50:</b> Compared to the stricter filter, this adds the good quality retrievals over clouds and over scenes covered by snow/ice. Errors and prolematic retrievals are still filtered out. In particiular, this filter may be useful assimilation and model comparison studies."
   ]
  },
  {
   "cell_type": "markdown",
   "metadata": {},
   "source": [
    "<b><font face=\"Arial\" size=\"4\" color=\"blue\"> 2.4.1- Quality Assesment of Image (2019)</font><br /></b>"
   ]
  },
  {
   "cell_type": "code",
   "execution_count": null,
   "metadata": {},
   "outputs": [],
   "source": [
    "# Plot data (2019 Image)\n",
    "plt.figure(figsize=(20, 5.5))\n",
    "\n",
    "#Plot qa_value (2019 Image)\n",
    "ax1 = plt.subplot(121, projection=ccrs.Mercator())\n",
    "s5p_img_PRD_2019['qa_value'][0].plot.pcolormesh(ax=ax1, x='longitude', y='latitude', add_colorbar=True, cmap='Spectral', transform=ccrs.PlateCarree())\n",
    "ax1.set_title('S-5p L2 NO$_2$ (2019) | Quality Assesment')\n",
    "ax1.add_feature(cartopy.feature.LAND, edgecolor='black')\n",
    "ax1.add_feature(cartopy.feature.OCEAN)\n",
    "ax1.add_feature(cartopy.feature.RIVERS)\n",
    "ax1.coastlines('10m')\n",
    "ax1.gridlines()\n",
    "ax1.set_extent([-3.62, 12.25, 44.00, 51.60])\n",
    "\n",
    "# Add France to Maps (2019 Image)\n",
    "ax1.plot(3.7, 46.8, 'bo', markersize=10, transform=ccrs.PlateCarree())\n",
    "ax1.text(3.1, 47, 'FRANCE', transform=ccrs.Geodetic())\n",
    "\n",
    "# Save figure to file (2019 Image)\n",
    "plt.savefig('Outputs/2019_Quality_Assesment.png', bbox_inches='tight', dpi=300)"
   ]
  },
  {
   "cell_type": "markdown",
   "metadata": {},
   "source": [
    "<b><font face=\"Arial\" size=\"4\" color=\"blue\"> 2.4.2- Quality Assesment of Image (2020) </font><br /></b>"
   ]
  },
  {
   "cell_type": "code",
   "execution_count": null,
   "metadata": {},
   "outputs": [],
   "source": [
    "# Plot data (2020 Image)\n",
    "plt.figure(figsize=(20, 5.5))\n",
    "\n",
    "#Plot qa_value (2020 Image)\n",
    "ax1 = plt.subplot(121, projection=ccrs.Mercator())\n",
    "s5p_img_PRD_2020['qa_value'][0].plot.pcolormesh(ax=ax1, x='longitude', y='latitude', add_colorbar=True, cmap='Spectral', transform=ccrs.PlateCarree())\n",
    "ax1.set_title('S-5p L2 NO$_2$ (2020) | Quality Assesment')\n",
    "ax1.add_feature(cartopy.feature.LAND, edgecolor='black')\n",
    "ax1.add_feature(cartopy.feature.OCEAN)\n",
    "ax1.add_feature(cartopy.feature.RIVERS)\n",
    "ax1.coastlines('10m')\n",
    "ax1.gridlines()\n",
    "ax1.set_extent([-3.62, 12.25, 44.00, 51.60])\n",
    "\n",
    "# Add France to Maps (2020 Image)\n",
    "ax1.plot(3.7, 46.8, 'bo', markersize=10, transform=ccrs.PlateCarree())\n",
    "ax1.text(3.1, 47, 'FRANCE', transform=ccrs.Geodetic())\n",
    "\n",
    "# Save figure to file (2020 Image)\n",
    "plt.savefig('Outputs/2020_Quality_Assesment.png', bbox_inches='tight', dpi=300)"
   ]
  },
  {
   "cell_type": "markdown",
   "metadata": {},
   "source": [
    "<b><font face=\"Arial\" size=\"4\" color=\"blue\"> 2.4.3- Filtered Images </font><br /></b>"
   ]
  },
  {
   "cell_type": "code",
   "execution_count": null,
   "metadata": {},
   "outputs": [],
   "source": [
    "# Plotting\n",
    "plt.figure(figsize=(20, 7.5))\n",
    "\n",
    "############### FOR 2019 IMAGE ###############\n",
    "\n",
    "# Quality Filtering \n",
    "no2_filter_2019 = no2_2019.where(s5p_img_PRD_2019['qa_value'] > 0.75, drop=True)\n",
    "\n",
    "# Plot masked NO2 data\n",
    "ax1 = plt.subplot(122, projection=ccrs.Mercator())\n",
    "no2_filter_2019[0].plot.pcolormesh(ax=ax1, x='longitude', y='latitude', add_colorbar=True, cmap='magma_r', transform=ccrs.PlateCarree(), vmin=0)\n",
    "ax1.set_title('S-5p L2 NO$_2$ (2019) | Filtered Quality (qa_value > 0.75)')\n",
    "ax1.add_feature(cartopy.feature.RIVERS)\n",
    "ax1.coastlines('10m')\n",
    "ax1.stock_img()\n",
    "ax1.gridlines()\n",
    "ax1.set_extent([-3.62, 12.25, 44.00, 51.60])\n",
    "\n",
    "# Add France to Map\n",
    "ax1.plot(3.7, 46.8, 'bo', markersize=10, transform=ccrs.PlateCarree())\n",
    "ax1.text(3.1, 47, 'FRANCE', transform=ccrs.Geodetic())\n",
    "\n",
    "############### FOR 2020 IMAGE ###############\n",
    "\n",
    "# Quality Filtering \n",
    "no2_filter_2020 = no2_2020.where(s5p_img_PRD_2020['qa_value'] > 0.75, drop=True)\n",
    "\n",
    "# Plot masked NO2 data\n",
    "ax2 = plt.subplot(121, projection=ccrs.Mercator())\n",
    "no2_filter_2020[0].plot.pcolormesh(ax=ax2, x='longitude', y='latitude', add_colorbar=True, cmap='magma_r', transform=ccrs.PlateCarree(), vmin=0)\n",
    "ax2.set_title('S-5p L2 NO$_2$ (2020) | Filtered Quality (qa_value > 0.75)')\n",
    "ax2.add_feature(cartopy.feature.RIVERS)\n",
    "ax2.coastlines('10m')\n",
    "ax2.stock_img()\n",
    "ax2.gridlines()\n",
    "ax2.set_extent([-3.62, 12.25, 44.00, 51.60])\n",
    "\n",
    "# Add France to Map\n",
    "ax2.plot(3.7, 46.8, 'bo', markersize=10, transform=ccrs.PlateCarree())\n",
    "ax2.text(3.1, 47, 'FRANCE', transform=ccrs.Geodetic())\n",
    "\n",
    "# Save figure to file\n",
    "plt.savefig('Outputs/Comparing_results.png', bbox_inches='tight', dpi=300)"
   ]
  }
 ],
 "metadata": {
  "kernelspec": {
   "display_name": "Python 3",
   "language": "python",
   "name": "python3"
  },
  "language_info": {
   "codemirror_mode": {
    "name": "ipython",
    "version": 3
   },
   "file_extension": ".py",
   "mimetype": "text/x-python",
   "name": "python",
   "nbconvert_exporter": "python",
   "pygments_lexer": "ipython3",
   "version": "3.8.3"
  }
 },
 "nbformat": 4,
 "nbformat_minor": 4
}
